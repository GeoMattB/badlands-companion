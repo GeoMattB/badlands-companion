{
 "cells": [
  {
   "cell_type": "markdown",
   "metadata": {},
   "source": [
    "# Morphometrics\n",
    "\n",
    "We will see how we can use any given surface from Badlands to extract several parameters relative to **morphometrics analysis**. The analysis relies only on the `tin` files (*i.e.* surface) produced by Badlands. If you are interested in looking at hydrometrics and stratigraphic analysis there are other notebooks specially designed for that in the **Badlands companion** repository.\n",
    "\n",
    "**Morphometrics** refers to quantitative description and analysis of the produced Badlands landforms which could be applied to a particular kind of landform or to drainage basins and large regions.\n",
    "\n",
    "The following suite of geomorphic attributes could be extracted:\n",
    "- **gradient**: magnitude of maximum gradient\n",
    "- **horizontal curvature** describes convergent or divergent fluxes\n",
    "- **vertical curvature**: positive values describe convex profile curvature, negative values concave profile.\n",
    "- **aspect**: direction of maximum gradient\n",
    "- **discharge**:  it relates to the drainage area\n",
    "\n",
    "In addition, the last section of this notebook shows how you can `slice` the model in any direction to plot a **profile** of the elevation."
   ]
  },
  {
   "cell_type": "code",
   "execution_count": null,
   "metadata": {
    "collapsed": false
   },
   "outputs": [],
   "source": [
    "%matplotlib inline\n",
    "\n",
    "# Import badlands grid generation toolbox\n",
    "import morphoGrid as morph\n",
    "\n",
    "# display plots in SVG format\n",
    "%config InlineBackend.figure_format = 'svg' "
   ]
  },
  {
   "cell_type": "markdown",
   "metadata": {
    "collapsed": true
   },
   "source": [
    "# 1. Define analyse bounding box\n",
    "\n",
    "We first have to define the path to the Badlands outputs we want to analyse. In addition Badlands is creating several files for each processors that have been used, you need to specify this number in the `ncpus` variable. \n",
    "\n",
    "We then need to provide the extent of the area we want to perform morphometrics analysis on using the `bbox` parameters which is numpy array containing the extent in the following order [xlow,ylow,xup,yup]. \n",
    "\n",
    "Finally you need to specify the resolution you want to work on. Usually Badlands model are ran on resolution of several hundred of metres but you might want to extract the morphemetrics attributes at a much higher resolution. This is done using the `dx` parameter which is in metres.\n",
    "\n",
    "For more information regarding the function uncomment the following line."
   ]
  },
  {
   "cell_type": "code",
   "execution_count": null,
   "metadata": {
    "collapsed": false
   },
   "outputs": [],
   "source": [
    "#help(morph.morphoGrid.__init__)"
   ]
  },
  {
   "cell_type": "code",
   "execution_count": null,
   "metadata": {
    "collapsed": false
   },
   "outputs": [],
   "source": [
    "morpho = morph.morphoGrid(folder='/workspace/volume/output', \\\n",
    "                          ncpus=2, bbox = [1.28e+06,5.12e+06,1.33e+06,5.17e+06], \\\n",
    "                          dx=50)"
   ]
  },
  {
   "cell_type": "markdown",
   "metadata": {},
   "source": [
    "# 2. Interpolation of TIN data\n",
    "\n",
    "We now interpolate the data from a particular time step (`timestep`) from the TIN to the regular grid, which extent and resolution have been specified in previous function.\n",
    "\n",
    "**Note**\n",
    "\n",
    "If you are interested in making some morphometric comparisons between different time steps you could create multiple instances of the morphometrics python class each of them associated to a given time step."
   ]
  },
  {
   "cell_type": "code",
   "execution_count": null,
   "metadata": {
    "collapsed": true
   },
   "outputs": [],
   "source": [
    "#help(morpho.loadHDF5)"
   ]
  },
  {
   "cell_type": "code",
   "execution_count": null,
   "metadata": {
    "collapsed": false
   },
   "outputs": [],
   "source": [
    "morpho.loadHDF5(timestep=0)"
   ]
  },
  {
   "cell_type": "markdown",
   "metadata": {},
   "source": [
    "It is possible to create a shaded relief from the surface raster by considering the\n",
    "illumination source angle and shadows.\n",
    "\n",
    "+ The azimuth angle (`az`) of the light source is expressed in positive degrees from 0 to 360, measured clockwise from north. The default is 315 degrees.\n",
    "+ Altitude angle (`altitude`) of the light source above the horizon is expressed in positive degrees, with 0 degrees at the horizon and 90 degrees directly overhead. The default is 45 degrees."
   ]
  },
  {
   "cell_type": "code",
   "execution_count": null,
   "metadata": {
    "collapsed": true
   },
   "outputs": [],
   "source": [
    "#help(morpho.hillShade)"
   ]
  },
  {
   "cell_type": "code",
   "execution_count": null,
   "metadata": {
    "collapsed": false
   },
   "outputs": [],
   "source": [
    "morpho.hillShade(az=315, altitude=45)"
   ]
  },
  {
   "cell_type": "markdown",
   "metadata": {},
   "source": [
    "# 3. Morphometric attributes\n",
    "\n",
    "We define **aspect**, **gradient** and **horizontal/vertical curvatures** using a quadratic polynomial method. It consists in computing for each grid nodes the attributes based on the elevations from its eight neighbours."
   ]
  },
  {
   "cell_type": "code",
   "execution_count": null,
   "metadata": {
    "collapsed": true
   },
   "outputs": [],
   "source": [
    "#help(morpho.getParams)"
   ]
  },
  {
   "cell_type": "code",
   "execution_count": null,
   "metadata": {
    "collapsed": false
   },
   "outputs": [],
   "source": [
    "morpho.getParams()"
   ]
  },
  {
   "cell_type": "markdown",
   "metadata": {},
   "source": [
    "# 3. Morphometrics visualisation"
   ]
  },
  {
   "cell_type": "markdown",
   "metadata": {},
   "source": [
    "The core of the computation is now done and we can visualise the produced datatset using **plotly**.\n",
    "\n",
    "First we visualise the selected region as a 3D surface. \n",
    "\n",
    "For more information regarding the function uncomment the following line."
   ]
  },
  {
   "cell_type": "code",
   "execution_count": null,
   "metadata": {
    "collapsed": false
   },
   "outputs": [],
   "source": [
    "#help(morpho.viewSurf)"
   ]
  },
  {
   "cell_type": "code",
   "execution_count": null,
   "metadata": {
    "collapsed": false
   },
   "outputs": [],
   "source": [
    "morpho.viewSurf(width = 600, height = 600, zmin = -6000, zmax = 0, \n",
    "                color = 'Earth', vData = morpho.z, subsample = 10, \n",
    "                title='Elevation map')"
   ]
  },
  {
   "cell_type": "markdown",
   "metadata": {},
   "source": [
    "Then you will find a series of maps showing the computed attributes from the output of Badlands model.\n",
    "\n",
    "The maps are created using the `viewGrid` function. For more information regarding the function uncomment the following line."
   ]
  },
  {
   "cell_type": "code",
   "execution_count": null,
   "metadata": {
    "collapsed": true
   },
   "outputs": [],
   "source": [
    "#help(morpho.viewGrid)"
   ]
  },
  {
   "cell_type": "code",
   "execution_count": null,
   "metadata": {
    "collapsed": false,
    "scrolled": true
   },
   "outputs": [],
   "source": [
    "morpho.viewGrid(width = 500, height = 500, Dmin = 0, Dmax = 1.3,\n",
    "                color = 'Greys', reverse=True, Data = morpho.grad, \n",
    "                title='Gradient')"
   ]
  },
  {
   "cell_type": "code",
   "execution_count": null,
   "metadata": {
    "collapsed": false
   },
   "outputs": [],
   "source": [
    "morpho.viewGrid(width = 500, height = 500, Dmin = -0.001, Dmax = 0.001, \n",
    "                color = 'Picnic', reverse=False, Data = morpho.vcurv, \n",
    "                title='Vertical curvature')"
   ]
  },
  {
   "cell_type": "code",
   "execution_count": null,
   "metadata": {
    "collapsed": false
   },
   "outputs": [],
   "source": [
    "morpho.viewGrid(width = 500, height = 500, Dmin = None, Dmax = None, \n",
    "                color = 'Picnic', reverse=True, Data = morpho.aspect, \n",
    "                title='Aspect')"
   ]
  },
  {
   "cell_type": "markdown",
   "metadata": {},
   "source": [
    "The extent of discharge values over simulated region is usually of several order of magnitude different between the min and the max. Also it is possible to plot the log of the discharge instead of the discharge itself using the `logdischarge` variable."
   ]
  },
  {
   "cell_type": "code",
   "execution_count": null,
   "metadata": {
    "collapsed": false
   },
   "outputs": [],
   "source": [
    "morpho.viewGrid(width = 500, height = 500, Dmin = 0, \n",
    "                Dmax = morpho.logdischarge.max(), \n",
    "                color = 'Jet', reverse=False, \n",
    "                Data = morpho.logdischarge, \n",
    "                title='Discharge (log)')"
   ]
  },
  {
   "cell_type": "markdown",
   "metadata": {},
   "source": [
    "# 4. Cross-section extraction\n",
    "\n",
    "The last function provided here helps you to create a cross-section from 2 points (xo,yo) and (xm,ym). The create section will interpolate the attributes over the desired slice using a bivariate spline method. \n",
    "\n",
    "The resulting section is then plotted as a 2D scatter and line graph using **plotly** library.\n",
    "\n",
    "For more information regarding the function uncomment the following line."
   ]
  },
  {
   "cell_type": "code",
   "execution_count": null,
   "metadata": {
    "collapsed": true
   },
   "outputs": [],
   "source": [
    "#help(morpho.viewSection)"
   ]
  },
  {
   "cell_type": "code",
   "execution_count": null,
   "metadata": {
    "collapsed": false
   },
   "outputs": [],
   "source": [
    "xo = 1.28e+06\n",
    "yo = 5.12e+06\n",
    "xm = 1.33e+06 \n",
    "ym = 5.17e+06\n",
    "morpho.viewSection(xo = xo, yo = yo, xm = xm, ym = ym, pts = 100, vData = morpho.z, \n",
    "                    width = 800, height = 400, color = 'green', linesize = 3, \n",
    "                    markersize = 5, title = 'Cross section')"
   ]
  },
  {
   "cell_type": "code",
   "execution_count": null,
   "metadata": {
    "collapsed": true
   },
   "outputs": [],
   "source": []
  }
 ],
 "metadata": {
  "kernelspec": {
   "display_name": "Python 2",
   "language": "python",
   "name": "python2"
  },
  "language_info": {
   "codemirror_mode": {
    "name": "ipython",
    "version": 2
   },
   "file_extension": ".py",
   "mimetype": "text/x-python",
   "name": "python",
   "nbconvert_exporter": "python",
   "pygments_lexer": "ipython2",
   "version": "2.7.9"
  }
 },
 "nbformat": 4,
 "nbformat_minor": 0
}
