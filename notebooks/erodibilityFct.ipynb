{
 "cells": [
  {
   "cell_type": "code",
   "execution_count": null,
   "metadata": {
    "collapsed": false
   },
   "outputs": [],
   "source": [
    "import numpy as np\n",
    "import pybadlands_companion.eroFunctions as efcts\n",
    "import matplotlib.pyplot as plt\n",
    "\n",
    "%matplotlib inline\n",
    "%config InlineBackend.figure_format = 'svg'"
   ]
  },
  {
   "cell_type": "markdown",
   "metadata": {},
   "source": [
    "# Updated stream power model\n",
    "\n",
    "The **stream power law** (SPL) is expressed as:\n",
    "\n",
    "$$I = \\Psi (PA)^mS^n$$\n",
    "where $\\Psi$ is a bedrock erodibility coefficient and $m$ and $n$ are positive exponents.\n",
    "\n",
    "It is possible to modify the equation to explicitly incorporate:\n",
    "+ the effect of local mean annual precipitation rate, $P_i$, and \n",
    "+ the effect of bedload sediment supply, $s_{bed}$,\n",
    "+ where the dependency of bedload transport is related to the upstream slope $S$.\n",
    "\n",
    "We can express $\\Psi$ as a function of:\n",
    "$$\\Psi = K_i \\cdot f(P,s_{bed}(S))$$\n",
    "\n",
    "where $K_i$ is the independent component of erodibility.\n",
    "\n",
    "## Companion function types\n",
    "\n",
    "Several functions are provided in the `eroFunctions` class of the Companion to simulate the dependency of the erosion factor to the sediment supply:\n",
    "\n",
    "- sinsoidal function\n",
    "- gaussian function and combination of 2 gaussians\n",
    "- bell function\n",
    "- trapezoidal function\n",
    "- triangular function\n",
    "- sigmoid function\n",
    "\n",
    "\n",
    "## Precipitation dependency\n",
    "\n",
    "Following Murphy et al. 2016, the dependence to the precipitation is of the form: \n",
    "$$f(P) = P^d$$\n",
    "For Kohala Peninsula (Hawaii), the authors suggest values for precipitation exponent $d$ between 0.75 and 0.76.\n",
    "\n",
    "- B. P. Murphy, J. P. Johnson, N. M. Gasparini, L. S. Sklar, _Chemical weathering as a mechanism for the climatic control of bedrock river incision_, **Nature**, 532, pp. 223-227 (2016).\n",
    "\n",
    "\n",
    "## Bedload vs water flux dependency\n",
    "\n",
    "Following Sklar & Dietrich (2004), the erosion rate is a function of the ratio between bedload sediment supply and water discharge and could be define to reproduce the tool & cover effect.\n",
    "\n",
    "- Sklar, L. S., and W. E. Dietrich (2004), _A mechanistic model for river incision into bedrock by saltating bed load_, **Water Resour. Res.**, 40, W06301, doi:10.1029/2003WR002496.\n",
    "\n",
    "### Declaration of erosion factor sediment supply dependency"
   ]
  },
  {
   "cell_type": "code",
   "execution_count": null,
   "metadata": {
    "collapsed": false
   },
   "outputs": [],
   "source": [
    "sedsup = efcts.eroFunctions(0.,1.,101)\n",
    "#help(sedsup.gauss2fct)"
   ]
  },
  {
   "cell_type": "code",
   "execution_count": null,
   "metadata": {
    "collapsed": false
   },
   "outputs": [],
   "source": [
    "gaussfact = 0.6*sedsup.gauss2fct(0.4,0.3,0.4,0.3)+0.4\n",
    "plt.plot(sedsup.x, gaussfact, linewidth=4)\n",
    "plt.xlabel('bedload sediment versus water fluxes')\n",
    "plt.ylabel('erosion dependent factor')\n",
    "plt.show()"
   ]
  },
  {
   "cell_type": "markdown",
   "metadata": {},
   "source": [
    "## Export dataset\n",
    "\n",
    "We then export the data in a file that will be used in Badlands."
   ]
  },
  {
   "cell_type": "code",
   "execution_count": null,
   "metadata": {
    "collapsed": false
   },
   "outputs": [],
   "source": [
    "sedsup.exportFunction(gaussfact,'data/sedsupply')"
   ]
  },
  {
   "cell_type": "markdown",
   "metadata": {},
   "source": [
    "## Bedload vs. slope dependency\n",
    "\n",
    "Proportion of material entrained as bedload is assumed to be related to the upstream slope.\n",
    "We consider that only bedload materials will affect the erosion factor. \n",
    "\n",
    "As a first approximation we assume a simple dependency between the percentage of eroded material transported  as bedload $P_{bed}$ and the upstream slope $S$.\n",
    "\n",
    "$$P_{bed} = \\Gamma(S) $$\n",
    "\n"
   ]
  },
  {
   "cell_type": "code",
   "execution_count": null,
   "metadata": {
    "collapsed": true
   },
   "outputs": [],
   "source": [
    "upslp = efcts.eroFunctions(0.,0.02,51)\n",
    "#help(sedsup.sigfct)"
   ]
  },
  {
   "cell_type": "markdown",
   "metadata": {},
   "source": [
    "##### Example with a linear function"
   ]
  },
  {
   "cell_type": "code",
   "execution_count": null,
   "metadata": {
    "collapsed": true
   },
   "outputs": [],
   "source": [
    "#linslope = upslp.linfct(0.5,0.2)"
   ]
  },
  {
   "cell_type": "code",
   "execution_count": null,
   "metadata": {
    "collapsed": false
   },
   "outputs": [],
   "source": [
    "#plt.plot(upslp.x, linslope, linewidth=4)\n",
    "#plt.xlabel('upstream slope [m/m]')\n",
    "#plt.ylabel('Bedload proportion of eroded sediment [%]')\n",
    "#plt.show()"
   ]
  },
  {
   "cell_type": "markdown",
   "metadata": {},
   "source": [
    "##### Example with a gaussian function"
   ]
  },
  {
   "cell_type": "code",
   "execution_count": null,
   "metadata": {
    "collapsed": false
   },
   "outputs": [],
   "source": [
    "gaussslope = 0.3*upslp.gauss2fct(0.015,0.007,0.3,0.01) + 0.1"
   ]
  },
  {
   "cell_type": "code",
   "execution_count": null,
   "metadata": {
    "collapsed": false
   },
   "outputs": [],
   "source": [
    "plt.plot(upslp.x, gaussslope, linewidth=4)\n",
    "plt.xlabel('upstream slope [m/m]')\n",
    "plt.ylabel('Bedload proportion of eroded sediment [%]')\n",
    "plt.show()"
   ]
  },
  {
   "cell_type": "markdown",
   "metadata": {},
   "source": [
    "## Export dataset\n",
    "\n",
    "We then export the data in a file that will be used in Badlands."
   ]
  },
  {
   "cell_type": "code",
   "execution_count": null,
   "metadata": {
    "collapsed": true
   },
   "outputs": [],
   "source": [
    "upslp.exportFunction(gaussslope,'data/bedslp')"
   ]
  },
  {
   "cell_type": "code",
   "execution_count": null,
   "metadata": {
    "collapsed": true
   },
   "outputs": [],
   "source": []
  }
 ],
 "metadata": {
  "kernelspec": {
   "display_name": "Python 2",
   "language": "python",
   "name": "python2"
  },
  "language_info": {
   "codemirror_mode": {
    "name": "ipython",
    "version": 2
   },
   "file_extension": ".py",
   "mimetype": "text/x-python",
   "name": "python",
   "nbconvert_exporter": "python",
   "pygments_lexer": "ipython2",
   "version": "2.7.6"
  }
 },
 "nbformat": 4,
 "nbformat_minor": 0
}
